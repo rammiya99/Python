{
 "cells": [
  {
   "cell_type": "code",
   "execution_count": 1,
   "id": "352af9f3-2e4b-4356-8aac-ebf788542ba9",
   "metadata": {},
   "outputs": [],
   "source": [
    "class SubfieldsInAI():\n",
    "    def Subfields():\n",
    "        list=(\"Machine Learning\",\"Neural Networks\",\"Vision\",\"Robotics\",\"Speech Processing\",\"Natural Language Processing\")\n",
    "        print(\"Sub-fields in AI are:\")\n",
    "        for x in list:\n",
    "            print(x)\n"
   ]
  },
  {
   "cell_type": "code",
   "execution_count": 2,
   "id": "5e5b8bea-50a1-4c35-a190-873854e6517d",
   "metadata": {},
   "outputs": [
    {
     "name": "stdout",
     "output_type": "stream",
     "text": [
      "Sub-fields in AI are:\n",
      "Machine Learning\n",
      "Neural Networks\n",
      "Vision\n",
      "Robotics\n",
      "Speech Processing\n",
      "Natural Language Processing\n"
     ]
    }
   ],
   "source": [
    "SubfieldsInAI.Subfields()      "
   ]
  },
  {
   "cell_type": "code",
   "execution_count": 3,
   "id": "93b35f34-e829-4601-b9ca-ba0aeb9dc100",
   "metadata": {},
   "outputs": [],
   "source": [
    "# Create a function that checks whether the given number is Odd or Even\n",
    "class OddEven():\n",
    "    def OddEven():\n",
    "        num = int(input(\"Enter the number\"))\n",
    "        if(num%2==0):\n",
    "            print(num,\"is Even number\")\n",
    "        else:\n",
    "            print(num,\"is odd number\")"
   ]
  },
  {
   "cell_type": "code",
   "execution_count": 4,
   "id": "f17030d6-d4e0-4975-83f4-59cbaa781da3",
   "metadata": {},
   "outputs": [
    {
     "name": "stdin",
     "output_type": "stream",
     "text": [
      "Enter the number 52452\n"
     ]
    },
    {
     "name": "stdout",
     "output_type": "stream",
     "text": [
      "52452 is Even number\n"
     ]
    }
   ],
   "source": [
    "OddEven.OddEven()"
   ]
  },
  {
   "cell_type": "code",
   "execution_count": 5,
   "id": "6e1e183d-2584-454b-a4f6-7685094783cb",
   "metadata": {},
   "outputs": [],
   "source": [
    "# Create a function that tells elegibility of marriage for male and female according to their age limit like 21 for male and 18 for female\n",
    "class ElegiblityForMarriage():\n",
    "    def Elegible():\n",
    "        gender = input(\"your Gender: \")\n",
    "        age    = int(input(\"your age:\"))\n",
    "        if(gender=='Male' and age>=21) | (gender=='Female' and age>=18):\n",
    "            print(\"Eligible\")\n",
    "        else:\n",
    "            print(\"Not Eligible\")   "
   ]
  },
  {
   "cell_type": "code",
   "execution_count": 6,
   "id": "d4dd38f5-ace2-4794-a297-9b5959bfd601",
   "metadata": {},
   "outputs": [
    {
     "name": "stdin",
     "output_type": "stream",
     "text": [
      "your Gender:  Male\n",
      "your age: 20\n"
     ]
    },
    {
     "name": "stdout",
     "output_type": "stream",
     "text": [
      "Not Eligible\n"
     ]
    }
   ],
   "source": [
    "ElegiblityForMarriage.Elegible()"
   ]
  },
  {
   "cell_type": "code",
   "execution_count": 7,
   "id": "4d07e3f3-241d-4f0d-b582-f7350e18442e",
   "metadata": {},
   "outputs": [],
   "source": [
    "#calculate the percentage of your 10th mark\n",
    "class FindPercent():\n",
    "    def Findper():\n",
    "        sub1 = int(input(\"Subject1= \"))\n",
    "        sub2 = int(input(\"Subject2= \"))\n",
    "        sub3 = int(input(\"Subject3= \"))\n",
    "        sub4 = int(input(\"Subject4= \"))\n",
    "        sub5 = int(input(\"Subject5= \"))\n",
    "        Tot  = sub1+sub2+sub3+sub4+sub5\n",
    "        print(\"Total:\",Tot)\n",
    "        per = Tot/5\n",
    "        print(\"Percentage:\",per)"
   ]
  },
  {
   "cell_type": "code",
   "execution_count": 8,
   "id": "078d667b-32c0-4b4a-9fb7-c68b60316ce7",
   "metadata": {},
   "outputs": [
    {
     "name": "stdin",
     "output_type": "stream",
     "text": [
      "Subject1=  98\n",
      "Subject2=  87\n",
      "Subject3=  95\n",
      "Subject4=  95\n",
      "Subject5=  93\n"
     ]
    },
    {
     "name": "stdout",
     "output_type": "stream",
     "text": [
      "Total: 468\n",
      "Percentage: 93.6\n"
     ]
    }
   ],
   "source": [
    "FindPercent.Findper()"
   ]
  },
  {
   "cell_type": "code",
   "execution_count": 9,
   "id": "25869149-ac92-447c-97da-f69d95570bdd",
   "metadata": {},
   "outputs": [],
   "source": [
    "class Triangle():\n",
    "    def Triangle():\n",
    "        h = int(input(\"Height: \"))\n",
    "        b1 = int(input(\"Breadth: \"))\n",
    "        Area = (h*b1)/2\n",
    "        print(\"Area of Triangle:\",Area)\n",
    "        h1 = int(input(\"Height1: \"))\n",
    "        h2 = int(input(\"Height2: \"))\n",
    "        b2 = int(input(\"Breadth: \"))\n",
    "        Peri = h1+h2+b2\n",
    "        print(\"Perimeter formula: Height1+Height2+Breadth\",)\n",
    "        print(\"Perimeter of Triangle:\", Peri)"
   ]
  },
  {
   "cell_type": "code",
   "execution_count": 10,
   "id": "331ff56c-826f-4f57-97ea-3c116db307a3",
   "metadata": {},
   "outputs": [
    {
     "name": "stdin",
     "output_type": "stream",
     "text": [
      "Height:  32\n",
      "Breadth:  34\n"
     ]
    },
    {
     "name": "stdout",
     "output_type": "stream",
     "text": [
      "Area of Triangle: 544.0\n"
     ]
    },
    {
     "name": "stdin",
     "output_type": "stream",
     "text": [
      "Height1:  2\n",
      "Height2:  4\n",
      "Breadth:  4\n"
     ]
    },
    {
     "name": "stdout",
     "output_type": "stream",
     "text": [
      "Perimeter formula: Height1+Height2+Breadth\n",
      "Perimeter of Triangle: 10\n"
     ]
    }
   ],
   "source": [
    "Triangle.Triangle()"
   ]
  },
  {
   "cell_type": "code",
   "execution_count": null,
   "id": "3807960c-d1bf-4978-ade3-f45030d49f87",
   "metadata": {},
   "outputs": [],
   "source": []
  }
 ],
 "metadata": {
  "kernelspec": {
   "display_name": "Python 3 (ipykernel)",
   "language": "python",
   "name": "python3"
  },
  "language_info": {
   "codemirror_mode": {
    "name": "ipython",
    "version": 3
   },
   "file_extension": ".py",
   "mimetype": "text/x-python",
   "name": "python",
   "nbconvert_exporter": "python",
   "pygments_lexer": "ipython3",
   "version": "3.11.7"
  }
 },
 "nbformat": 4,
 "nbformat_minor": 5
}
