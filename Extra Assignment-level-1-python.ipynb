{
 "cells": [
  {
   "cell_type": "code",
   "execution_count": 1,
   "id": "bed43c2b-5553-48b1-a04a-d2baae54bae8",
   "metadata": {},
   "outputs": [
    {
     "name": "stdout",
     "output_type": "stream",
     "text": [
      "Hope AI\n"
     ]
    }
   ],
   "source": [
    "print(\"Hope AI\")"
   ]
  },
  {
   "cell_type": "code",
   "execution_count": 2,
   "id": "8aedbde4-ef48-48d2-9fdf-d5ff384a6979",
   "metadata": {},
   "outputs": [
    {
     "name": "stdin",
     "output_type": "stream",
     "text": [
      "Enter your institute name?: test\n"
     ]
    }
   ],
   "source": [
    "name = input(\"Enter your institute name?:\")"
   ]
  },
  {
   "cell_type": "code",
   "execution_count": 3,
   "id": "590c855c-f5bd-4869-93e8-b5f364558716",
   "metadata": {},
   "outputs": [
    {
     "name": "stdout",
     "output_type": "stream",
     "text": [
      "Enter your name: Rammiya\n",
      "Enter your age: 35\n",
      "Enteryour school name:Maharishi\n",
      "Enter your degree:B.TECH\n"
     ]
    }
   ],
   "source": [
    "s= [\"Enter your name: Rammiya\",\"Enter your age: 35\",\"Enteryour school name:Maharishi\",\"Enter your degree:B.TECH\"]\n",
    "for x in s:\n",
    "    print(x)"
   ]
  },
  {
   "cell_type": "code",
   "execution_count": 4,
   "id": "b87ec864-94bf-4c23-97d7-d184886676f6",
   "metadata": {},
   "outputs": [
    {
     "name": "stdout",
     "output_type": "stream",
     "text": [
      "a= 43\n",
      "b= 34\n",
      "c= 77\n"
     ]
    }
   ],
   "source": [
    "#Addition \n",
    "a=43\n",
    "print(\"a=\",a)\n",
    "b=34\n",
    "print(\"b=\",b)\n",
    "c=a+b\n",
    "print(\"c=\",c)"
   ]
  },
  {
   "cell_type": "code",
   "execution_count": 5,
   "id": "26f6b4c5-3637-4e2a-ba2d-6bafa5311ca2",
   "metadata": {},
   "outputs": [
    {
     "name": "stdout",
     "output_type": "stream",
     "text": [
      "d= 43\n",
      "e= 34\n",
      "f= 9\n"
     ]
    }
   ],
   "source": [
    "#subtraction\n",
    "d=43\n",
    "print(\"d=\",d)\n",
    "e=34\n",
    "print(\"e=\",e)\n",
    "f=d-e\n",
    "print(\"f=\",f)"
   ]
  },
  {
   "cell_type": "code",
   "execution_count": 6,
   "id": "d1203331-e71e-4301-9f6f-86a4ddd95e76",
   "metadata": {},
   "outputs": [
    {
     "name": "stdout",
     "output_type": "stream",
     "text": [
      "g= 63\n",
      "h= 97\n",
      "i= 6111\n"
     ]
    }
   ],
   "source": [
    "#Multiplication\n",
    "g=63\n",
    "print(\"g=\",g)\n",
    "h=97\n",
    "print(\"h=\",h)\n",
    "i=g*h\n",
    "print(\"i=\",i)"
   ]
  },
  {
   "cell_type": "code",
   "execution_count": 7,
   "id": "3c2b9a56-257e-44cd-8095-37cf587ed06f",
   "metadata": {},
   "outputs": [
    {
     "name": "stdout",
     "output_type": "stream",
     "text": [
      "j= 76\n",
      "k= 31\n",
      "2.4516129032258065\n"
     ]
    }
   ],
   "source": [
    "#Division\n",
    "j=76\n",
    "print(\"j=\",j)\n",
    "k=31\n",
    "print(\"k=\",k)\n",
    "l=j/k\n",
    "print(l)"
   ]
  },
  {
   "cell_type": "code",
   "execution_count": 8,
   "id": "5943684d-ca76-49bb-ac03-a15f0f1430be",
   "metadata": {},
   "outputs": [
    {
     "name": "stdout",
     "output_type": "stream",
     "text": [
      "m= 76\n",
      "n= 31\n",
      "14\n"
     ]
    }
   ],
   "source": [
    "#Modulo\n",
    "m=76\n",
    "print(\"m=\",m)\n",
    "n=31\n",
    "print(\"n=\",n)\n",
    "o=m%n\n",
    "print(o)"
   ]
  },
  {
   "cell_type": "code",
   "execution_count": 1,
   "id": "bd411e89-2f9c-46ba-9ea8-cb36faba7652",
   "metadata": {},
   "outputs": [
    {
     "name": "stdout",
     "output_type": "stream",
     "text": [
      "u= 76\n",
      "v= 31\n",
      "2\n"
     ]
    }
   ],
   "source": [
    "#floor division\n",
    "u=76\n",
    "print(\"u=\",u)\n",
    "v=31\n",
    "print(\"v=\",v)\n",
    "l=u//v\n",
    "print(l)"
   ]
  },
  {
   "cell_type": "code",
   "execution_count": 10,
   "id": "b121c98d-2ec0-4f39-a42d-fa3d956069c8",
   "metadata": {},
   "outputs": [
    {
     "name": "stdout",
     "output_type": "stream",
     "text": [
      "s= 4\n",
      "t= 4\n",
      "256\n"
     ]
    }
   ],
   "source": [
    "#Power\n",
    "s=4\n",
    "print(\"s=\",s)\n",
    "t=4\n",
    "print(\"t=\",t)\n",
    "u=s**t\n",
    "print(u)"
   ]
  }
 ],
 "metadata": {
  "kernelspec": {
   "display_name": "Python 3 (ipykernel)",
   "language": "python",
   "name": "python3"
  },
  "language_info": {
   "codemirror_mode": {
    "name": "ipython",
    "version": 3
   },
   "file_extension": ".py",
   "mimetype": "text/x-python",
   "name": "python",
   "nbconvert_exporter": "python",
   "pygments_lexer": "ipython3",
   "version": "3.11.7"
  }
 },
 "nbformat": 4,
 "nbformat_minor": 5
}
