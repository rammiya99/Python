{
 "cells": [
  {
   "cell_type": "code",
   "execution_count": null,
   "id": "bed43c2b-5553-48b1-a04a-d2baae54bae8",
   "metadata": {},
   "outputs": [],
   "source": [
    "print(\"Hope AI\")"
   ]
  },
  {
   "cell_type": "code",
   "execution_count": null,
   "id": "8aedbde4-ef48-48d2-9fdf-d5ff384a6979",
   "metadata": {},
   "outputs": [],
   "source": [
    "name = input(\"Enter your institute name?:\")"
   ]
  },
  {
   "cell_type": "code",
   "execution_count": null,
   "id": "590c855c-f5bd-4869-93e8-b5f364558716",
   "metadata": {},
   "outputs": [],
   "source": [
    "s= [\"Enter your name: Rammiya\",\"Enter your age: 35\",\"Enteryour school name:Maharishi\",\"Enter your degree:B.TECH\"]\n",
    "for x in s:\n",
    "    print(x)"
   ]
  },
  {
   "cell_type": "code",
   "execution_count": null,
   "id": "b87ec864-94bf-4c23-97d7-d184886676f6",
   "metadata": {},
   "outputs": [],
   "source": [
    "#Addition \n",
    "a=43\n",
    "print(\"a=\",a)\n",
    "b=34\n",
    "print(\"b=\",b)\n",
    "c=a+b\n",
    "print(\"c=\",c)"
   ]
  },
  {
   "cell_type": "code",
   "execution_count": null,
   "id": "26f6b4c5-3637-4e2a-ba2d-6bafa5311ca2",
   "metadata": {},
   "outputs": [],
   "source": [
    "#subtraction\n",
    "a=43\n",
    "print(\"a=\",a)\n",
    "b=34\n",
    "print(\"b=\",b)\n",
    "c=a-b\n",
    "print(\"c=\",c)"
   ]
  },
  {
   "cell_type": "code",
   "execution_count": null,
   "id": "d1203331-e71e-4301-9f6f-86a4ddd95e76",
   "metadata": {},
   "outputs": [],
   "source": [
    "#Multiplication\n",
    "a=63\n",
    "print(\"a=\",a)\n",
    "b=97\n",
    "print(\"b=\",b)\n",
    "c=a*b\n",
    "print(\"c=\",c)"
   ]
  },
  {
   "cell_type": "code",
   "execution_count": null,
   "id": "3c2b9a56-257e-44cd-8095-37cf587ed06f",
   "metadata": {},
   "outputs": [],
   "source": [
    "#Division\n",
    "a=76\n",
    "print(\"a=\",a)\n",
    "b=31\n",
    "print(\"b=\",b)\n",
    "c=a/b\n",
    "print(c)"
   ]
  },
  {
   "cell_type": "code",
   "execution_count": null,
   "id": "5943684d-ca76-49bb-ac03-a15f0f1430be",
   "metadata": {},
   "outputs": [],
   "source": [
    "#Modulo\n",
    "a=76\n",
    "print(\"a=\",a)\n",
    "b=31\n",
    "print(\"b=\",b)\n",
    "c=a%b\n",
    "print(c)"
   ]
  },
  {
   "cell_type": "code",
   "execution_count": null,
   "id": "bd411e89-2f9c-46ba-9ea8-cb36faba7652",
   "metadata": {},
   "outputs": [],
   "source": [
    "#Modulo\n",
    "a=76\n",
    "print(\"a=\",a)\n",
    "b=31\n",
    "print(\"b=\",b)\n",
    "c=a%b\n",
    "print(c)"
   ]
  },
  {
   "cell_type": "code",
   "execution_count": null,
   "id": "b121c98d-2ec0-4f39-a42d-fa3d956069c8",
   "metadata": {},
   "outputs": [],
   "source": [
    "#Power\n",
    "a=4\n",
    "print(\"a=\",a)\n",
    "b=4\n",
    "print(\"b=\",b)\n",
    "c=a**b\n",
    "print(c)"
   ]
  }
 ],
 "metadata": {
  "kernelspec": {
   "display_name": "Python 3 (ipykernel)",
   "language": "python",
   "name": "python3"
  },
  "language_info": {
   "codemirror_mode": {
    "name": "ipython",
    "version": 3
   },
   "file_extension": ".py",
   "mimetype": "text/x-python",
   "name": "python",
   "nbconvert_exporter": "python",
   "pygments_lexer": "ipython3",
   "version": "3.11.7"
  }
 },
 "nbformat": 4,
 "nbformat_minor": 5
}
