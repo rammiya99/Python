{
 "cells": [
  {
   "cell_type": "code",
   "execution_count": null,
   "id": "6ca5ad8f-7390-4e39-b725-7ce93b3dc721",
   "metadata": {},
   "outputs": [],
   "source": [
    "#Baby steps print\n",
    "print(\"Welcome to assignment1\")"
   ]
  },
  {
   "cell_type": "code",
   "execution_count": null,
   "id": "f847abc1-fdde-4f0f-8d64-f053e3bd1600",
   "metadata": {},
   "outputs": [],
   "source": [
    "#Addition\n",
    "num1=10\n",
    "print(\"num1 =\",num1)\n",
    "num2=30\n",
    "print(\"num2 =\",num2)\n",
    "print(\"Add =\",num1+num2)"
   ]
  },
  {
   "cell_type": "code",
   "execution_count": null,
   "id": "d8a5bb0b-f797-493f-ad02-bc17377d0406",
   "metadata": {},
   "outputs": [],
   "source": [
    "#BMI weight\n",
    "num=float(input(\"Enter the BMI index:\"))\n",
    "if(num<=18.5):\n",
    "    print(\"underweight\")\n",
    "elif(num<=24.9):\n",
    "    print(\"normal weight\")\n",
    "elif(num<=29.9):\n",
    "     print(\"Over weight\")\n",
    "elif(num<=34.9):\n",
    "    print(\"obesity class 1\")\n",
    "elif(num<=39.9):\n",
    "    print(\"obesity class 2\")\n",
    "elif(num>40.0):\n",
    "     print(\"obesity class 3\")       "
   ]
  },
  {
   "cell_type": "code",
   "execution_count": null,
   "id": "608ae071-e314-42d6-9d69-ad0013cabdc8",
   "metadata": {},
   "outputs": [],
   "source": [
    "#Extra Assignment-level-1-python\n",
    "print(\"Hope AI\")"
   ]
  },
  {
   "cell_type": "code",
   "execution_count": null,
   "id": "f3b94259-e7aa-4d65-a247-83b3ea336cc4",
   "metadata": {},
   "outputs": [],
   "source": [
    "name = input(\"Enter your institute name?:\")"
   ]
  },
  {
   "cell_type": "code",
   "execution_count": 1,
   "id": "954bcef5-f931-4d1b-bf54-07243ad722d7",
   "metadata": {},
   "outputs": [
    {
     "name": "stdout",
     "output_type": "stream",
     "text": [
      "Enter your name: Rammiya\n",
      "Enter your age: 35\n",
      "Enteryour school name:Maharishi\n",
      "Enter your degree:B.TECH\n"
     ]
    }
   ],
   "source": [
    "s= [\"Enter your name: Rammiya\",\"Enter your age: 35\",\"Enteryour school name:Maharishi\",\"Enter your degree:B.TECH\"]\n",
    "for x in s:\n",
    "    print(x)"
   ]
  },
  {
   "cell_type": "code",
   "execution_count": 2,
   "id": "680d2017-f787-42e9-987d-ee777fae9331",
   "metadata": {},
   "outputs": [
    {
     "name": "stdout",
     "output_type": "stream",
     "text": [
      "a= 43\n",
      "b= 34\n",
      "c= 77\n"
     ]
    }
   ],
   "source": [
    "#Addition \n",
    "a=43\n",
    "print(\"a=\",a)\n",
    "b=34\n",
    "print(\"b=\",b)\n",
    "c=a+b\n",
    "print(\"c=\",c)"
   ]
  },
  {
   "cell_type": "code",
   "execution_count": 3,
   "id": "0c0bc61d-0dd5-4055-9dc1-3939e19b61e1",
   "metadata": {},
   "outputs": [
    {
     "name": "stdout",
     "output_type": "stream",
     "text": [
      "a= 43\n",
      "b= 34\n",
      "c= 9\n"
     ]
    }
   ],
   "source": [
    "#subtraction\n",
    "a=43\n",
    "print(\"a=\",a)\n",
    "b=34\n",
    "print(\"b=\",b)\n",
    "c=a-b\n",
    "print(\"c=\",c)"
   ]
  },
  {
   "cell_type": "code",
   "execution_count": 4,
   "id": "c0f245fb-2a0b-4110-b176-7ad2f23f1c7f",
   "metadata": {},
   "outputs": [
    {
     "name": "stdout",
     "output_type": "stream",
     "text": [
      "a= 63\n",
      "b= 97\n",
      "c= 6111\n"
     ]
    }
   ],
   "source": [
    "#Multiplication\n",
    "a=63\n",
    "print(\"a=\",a)\n",
    "b=97\n",
    "print(\"b=\",b)\n",
    "c=a*b\n",
    "print(\"c=\",c)"
   ]
  },
  {
   "cell_type": "code",
   "execution_count": 6,
   "id": "58c2845a-93d7-44ed-8983-b37dfeee49d6",
   "metadata": {},
   "outputs": [
    {
     "name": "stdout",
     "output_type": "stream",
     "text": [
      "a= 76\n",
      "b= 31\n",
      "2.4516129032258065\n"
     ]
    }
   ],
   "source": [
    "#Division\n",
    "a=76\n",
    "print(\"a=\",a)\n",
    "b=31\n",
    "print(\"b=\",b)\n",
    "c=a/b\n",
    "print(c)"
   ]
  },
  {
   "cell_type": "code",
   "execution_count": 8,
   "id": "39a32290-032c-4bea-8e94-b4483d8a5283",
   "metadata": {},
   "outputs": [
    {
     "name": "stdout",
     "output_type": "stream",
     "text": [
      "a= 76\n",
      "b= 31\n",
      "14\n"
     ]
    }
   ],
   "source": [
    "#Modulo\n",
    "a=76\n",
    "print(\"a=\",a)\n",
    "b=31\n",
    "print(\"b=\",b)\n",
    "c=a%b\n",
    "print(c)"
   ]
  },
  {
   "cell_type": "code",
   "execution_count": 9,
   "id": "f4706580-ac22-44f1-9c0a-3e317b6fe194",
   "metadata": {},
   "outputs": [
    {
     "name": "stdout",
     "output_type": "stream",
     "text": [
      "a= 4\n",
      "b= 4\n",
      "256\n"
     ]
    }
   ],
   "source": [
    "#Power\n",
    "a=4\n",
    "print(\"a=\",a)\n",
    "b=4\n",
    "print(\"b=\",b)\n",
    "c=a**b\n",
    "print(c)"
   ]
  },
  {
   "cell_type": "code",
   "execution_count": 4,
   "id": "7b3bdeb2-d772-431e-8395-91d094dcdbc3",
   "metadata": {},
   "outputs": [
    {
     "name": "stdout",
     "output_type": "stream",
     "text": [
      "0\n",
      "1\n",
      "2\n",
      "3\n",
      "4\n",
      "5\n",
      "6\n",
      "7\n",
      "8\n",
      "9\n",
      "10\n",
      "11\n",
      "12\n",
      "13\n",
      "14\n",
      "15\n",
      "16\n",
      "17\n",
      "18\n"
     ]
    }
   ],
   "source": [
    "#Extra Assignment-2-Level-2-python\n",
    "y=range(0,19)\n",
    "for z in y:\n",
    "    print(z)"
   ]
  },
  {
   "cell_type": "code",
   "execution_count": 9,
   "id": "9e3558e5-2d0d-44b8-b74a-205c63dbded9",
   "metadata": {},
   "outputs": [
    {
     "name": "stdout",
     "output_type": "stream",
     "text": [
      "10 11 12 13 14 15 16 17 18 19 20 "
     ]
    }
   ],
   "source": [
    "#print range of 10 to 20\n",
    "Lists = [10,11,12,13,14,15,16,17,18,19,20]\n",
    "for a in Lists:\n",
    "    print(a,end=' ')"
   ]
  },
  {
   "cell_type": "code",
   "execution_count": 20,
   "id": "0700ff95-82c5-4622-875d-e92977b63481",
   "metadata": {},
   "outputs": [
    {
     "name": "stdout",
     "output_type": "stream",
     "text": [
      "[10, 20, 14, 55, 43, 87, 76]\n",
      "No of items in the list\n",
      "7\n"
     ]
    }
   ],
   "source": [
    "Lists = [10, 20, 14, 55, 43, 87, 76] \n",
    "print(Lists)\n",
    "print(\"No of items in the list:\")\n",
    "print(len(Lists))\n",
    "#for a in Lists:\n",
    "   # print(a,end=' ')\n",
    "    #print(\"Number of item in the a\")\n",
    "    #print(len(Lists))"
   ]
  },
  {
   "cell_type": "code",
   "execution_count": 23,
   "id": "b917fdc3-cbb0-4a55-9d71-089696d63c7f",
   "metadata": {},
   "outputs": [
    {
     "name": "stdout",
     "output_type": "stream",
     "text": [
      "Artificial Intelligence\n",
      "A\n",
      "r\n",
      "t\n",
      "i\n",
      "f\n",
      "i\n",
      "c\n",
      "i\n",
      "a\n",
      "l\n",
      " \n",
      "I\n",
      "n\n",
      "t\n",
      "e\n",
      "l\n",
      "l\n",
      "i\n",
      "g\n",
      "e\n",
      "n\n",
      "c\n",
      "e\n"
     ]
    }
   ],
   "source": [
    "s=\"Artificial Intelligence\" \n",
    "print(s)\n",
    "lists = list(s)\n",
    "for z in lists:\n",
    "    print(z)"
   ]
  },
  {
   "cell_type": "code",
   "execution_count": 26,
   "id": "201460a9-97a5-458b-b12e-c9682908e6c8",
   "metadata": {},
   "outputs": [
    {
     "name": "stdout",
     "output_type": "stream",
     "text": [
      "(1, 'Welcome', 2, 'Hope')\n"
     ]
    }
   ],
   "source": [
    "# Print this mixered datatype using Tuples \n",
    "Tuple=(1, 'Welcome', 2, 'Hope') \n",
    "print(Tuple)\n",
    "\n"
   ]
  },
  {
   "cell_type": "code",
   "execution_count": 27,
   "id": "51ebec0d-8ca8-4944-9299-9284b714dd68",
   "metadata": {},
   "outputs": [
    {
     "name": "stdout",
     "output_type": "stream",
     "text": [
      "((0, 1, 2, 3), ('python', 'HOPE'))\n"
     ]
    }
   ],
   "source": [
    "Tuples = ((0, 1, 2, 3), ('python', 'HOPE')) \n",
    "print(Tuples)\n"
   ]
  },
  {
   "cell_type": "code",
   "execution_count": 39,
   "id": "cb027fc6-9bcd-4870-a7dd-d1cf20d399f1",
   "metadata": {},
   "outputs": [
    {
     "name": "stdout",
     "output_type": "stream",
     "text": [
      "[20, 10, 16, 19, 25, 1, 276, 188]\n",
      "19 is odd number\n",
      "25 is odd number\n",
      "1 is odd number\n"
     ]
    }
   ],
   "source": [
    "# print Odd Numbers in the list \n",
    "Lists = [20,10,16,19,25,1,276,188]\n",
    "print(Lists)\n",
    "for z in Lists:\n",
    "    if(z%2!=0):\n",
    "        print(z,\"is odd number\")"
   ]
  },
  {
   "cell_type": "code",
   "execution_count": 40,
   "id": "2b25714d-48d2-4c31-8201-f42b302381b3",
   "metadata": {},
   "outputs": [
    {
     "name": "stdout",
     "output_type": "stream",
     "text": [
      "[20, 10, 16, 19, 25, 1, 276, 188]\n",
      "20 is Even number\n",
      "10 is Even number\n",
      "16 is Even number\n",
      "276 is Even number\n",
      "188 is Even number\n"
     ]
    }
   ],
   "source": [
    "Lists = [20,10,16,19,25,1,276,188]\n",
    "print(Lists)\n",
    "for z in Lists:\n",
    "    if(z%2==0):\n",
    "        print(z,\"is Even number\")\n"
   ]
  },
  {
   "cell_type": "code",
   "execution_count": null,
   "id": "763f9e05-1cd3-4367-863b-fb415ee0c78a",
   "metadata": {},
   "outputs": [],
   "source": []
  },
  {
   "cell_type": "code",
   "execution_count": null,
   "id": "85514674-fafa-4621-b56e-7b343ba31d4c",
   "metadata": {},
   "outputs": [],
   "source": []
  }
 ],
 "metadata": {
  "kernelspec": {
   "display_name": "Python 3 (ipykernel)",
   "language": "python",
   "name": "python3"
  },
  "language_info": {
   "codemirror_mode": {
    "name": "ipython",
    "version": 3
   },
   "file_extension": ".py",
   "mimetype": "text/x-python",
   "name": "python",
   "nbconvert_exporter": "python",
   "pygments_lexer": "ipython3",
   "version": "3.11.7"
  }
 },
 "nbformat": 4,
 "nbformat_minor": 5
}
