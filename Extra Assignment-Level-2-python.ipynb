{
 "cells": [
  {
   "cell_type": "code",
   "execution_count": 1,
   "id": "6a89c88e-99b5-44e6-af88-08bbce381a0b",
   "metadata": {},
   "outputs": [
    {
     "name": "stdout",
     "output_type": "stream",
     "text": [
      "0\n",
      "1\n",
      "2\n",
      "3\n",
      "4\n",
      "5\n",
      "6\n",
      "7\n",
      "8\n",
      "9\n",
      "10\n",
      "11\n",
      "12\n",
      "13\n",
      "14\n",
      "15\n",
      "16\n",
      "17\n",
      "18\n"
     ]
    }
   ],
   "source": [
    "y=range(0,19)\n",
    "for z in y:\n",
    "    print(z)"
   ]
  },
  {
   "cell_type": "code",
   "execution_count": 2,
   "id": "02de104e-cdfb-4a71-a9de-2c5f4ec57d35",
   "metadata": {},
   "outputs": [
    {
     "name": "stdout",
     "output_type": "stream",
     "text": [
      "10 11 12 13 14 15 16 17 18 19 20 "
     ]
    }
   ],
   "source": [
    "#print range of 10 to 20\n",
    "Lists = [10,11,12,13,14,15,16,17,18,19,20]\n",
    "for a in Lists:\n",
    "    print(a,end=' ')"
   ]
  },
  {
   "cell_type": "code",
   "execution_count": 3,
   "id": "a84327c2-72b4-4f4c-8a5d-8465abe95b14",
   "metadata": {},
   "outputs": [
    {
     "name": "stdout",
     "output_type": "stream",
     "text": [
      "[10, 20, 14, 55, 43, 87, 76]\n",
      "No of items in the list:\n",
      "7\n"
     ]
    }
   ],
   "source": [
    "List1 = [10, 20, 14, 55, 43, 87, 76] \n",
    "print(List1)\n",
    "print(\"No of items in the list:\")\n",
    "print(len(List1))"
   ]
  },
  {
   "cell_type": "code",
   "execution_count": 4,
   "id": "ba016323-ae78-46a0-b5b4-9ba6d9dbbdb2",
   "metadata": {},
   "outputs": [
    {
     "name": "stdout",
     "output_type": "stream",
     "text": [
      "Artificial Intelligence\n",
      "A\n",
      "r\n",
      "t\n",
      "i\n",
      "f\n",
      "i\n",
      "c\n",
      "i\n",
      "a\n",
      "l\n",
      " \n",
      "I\n",
      "n\n",
      "t\n",
      "e\n",
      "l\n",
      "l\n",
      "i\n",
      "g\n",
      "e\n",
      "n\n",
      "c\n",
      "e\n"
     ]
    }
   ],
   "source": [
    "s=\"Artificial Intelligence\" \n",
    "print(s)\n",
    "list2 = list(s)\n",
    "for z in list2:\n",
    "    print(z)"
   ]
  },
  {
   "cell_type": "code",
   "execution_count": 5,
   "id": "5a41b066-7103-4f5d-86f8-3c3b915cc747",
   "metadata": {},
   "outputs": [
    {
     "name": "stdout",
     "output_type": "stream",
     "text": [
      "your name\n",
      "your age\n",
      "your profession\n"
     ]
    }
   ],
   "source": [
    "List3=[\"your name\",\"your age\",\"your profession\"]\n",
    "for z in List3:\n",
    "    print(z)"
   ]
  },
  {
   "cell_type": "code",
   "execution_count": 6,
   "id": "8600c2cb-794a-49ff-ad05-5351bd73b01a",
   "metadata": {},
   "outputs": [
    {
     "name": "stdout",
     "output_type": "stream",
     "text": [
      "(1, 'Welcome', 2, 'Hope')\n"
     ]
    }
   ],
   "source": [
    "Tuple=(1, 'Welcome', 2, 'Hope') \n",
    "print(Tuple)"
   ]
  },
  {
   "cell_type": "code",
   "execution_count": 7,
   "id": "7c75b04a-22c1-418a-b133-d514e20cdf1e",
   "metadata": {},
   "outputs": [
    {
     "name": "stdout",
     "output_type": "stream",
     "text": [
      "((0, 1, 2, 3), ('python', 'HOPE'))\n"
     ]
    }
   ],
   "source": [
    "Tuples = ((0, 1, 2, 3), ('python', 'HOPE')) \n",
    "print(Tuples)"
   ]
  },
  {
   "cell_type": "code",
   "execution_count": 8,
   "id": "cc927769-d865-4ea7-b620-38cabe78f561",
   "metadata": {},
   "outputs": [
    {
     "name": "stdout",
     "output_type": "stream",
     "text": [
      "[20, 10, 16, 19, 25, 1, 276, 188]\n",
      "19 is odd number\n",
      "25 is odd number\n",
      "1 is odd number\n"
     ]
    }
   ],
   "source": [
    "# print Odd Numbers in the list \n",
    "Lists3 = [20,10,16,19,25,1,276,188]\n",
    "print(Lists3)\n",
    "for z in Lists3:\n",
    "    if(z%2!=0):\n",
    "        print(z,\"is odd number\")"
   ]
  },
  {
   "cell_type": "code",
   "execution_count": 9,
   "id": "4de6a78a-bbd5-40f4-916b-1b5a619eb61b",
   "metadata": {},
   "outputs": [
    {
     "name": "stdout",
     "output_type": "stream",
     "text": [
      "[20, 10, 16, 19, 25, 1, 276, 188]\n",
      "20 is Even number\n",
      "10 is Even number\n",
      "16 is Even number\n",
      "276 is Even number\n",
      "188 is Even number\n"
     ]
    }
   ],
   "source": [
    "#Print Even no in the list\n",
    "Lists4 = [20,10,16,19,25,1,276,188]\n",
    "print(Lists4)\n",
    "for z in Lists4:\n",
    "    if(z%2==0):\n",
    "        print(z,\"is Even number\")"
   ]
  }
 ],
 "metadata": {
  "kernelspec": {
   "display_name": "Python 3 (ipykernel)",
   "language": "python",
   "name": "python3"
  },
  "language_info": {
   "codemirror_mode": {
    "name": "ipython",
    "version": 3
   },
   "file_extension": ".py",
   "mimetype": "text/x-python",
   "name": "python",
   "nbconvert_exporter": "python",
   "pygments_lexer": "ipython3",
   "version": "3.11.7"
  }
 },
 "nbformat": 4,
 "nbformat_minor": 5
}
