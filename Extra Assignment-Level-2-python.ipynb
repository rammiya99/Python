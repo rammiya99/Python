{
 "cells": [
  {
   "cell_type": "code",
   "execution_count": null,
   "id": "6a89c88e-99b5-44e6-af88-08bbce381a0b",
   "metadata": {},
   "outputs": [],
   "source": [
    "y=range(0,19)\n",
    "for z in y:\n",
    "    print(z)"
   ]
  },
  {
   "cell_type": "code",
   "execution_count": null,
   "id": "02de104e-cdfb-4a71-a9de-2c5f4ec57d35",
   "metadata": {},
   "outputs": [],
   "source": [
    "#print range of 10 to 20\n",
    "Lists = [10,11,12,13,14,15,16,17,18,19,20]\n",
    "for a in Lists:\n",
    "    print(a,end=' ')"
   ]
  },
  {
   "cell_type": "code",
   "execution_count": null,
   "id": "a84327c2-72b4-4f4c-8a5d-8465abe95b14",
   "metadata": {},
   "outputs": [],
   "source": [
    "Lists = [10, 20, 14, 55, 43, 87, 76] \n",
    "print(Lists)\n",
    "print(\"No of items in the list:\")\n",
    "print(len(Lists))"
   ]
  },
  {
   "cell_type": "code",
   "execution_count": null,
   "id": "ba016323-ae78-46a0-b5b4-9ba6d9dbbdb2",
   "metadata": {},
   "outputs": [],
   "source": [
    "s=\"Artificial Intelligence\" \n",
    "print(s)\n",
    "lists = list(s)\n",
    "for z in lists:\n",
    "    print(z)"
   ]
  },
  {
   "cell_type": "code",
   "execution_count": 2,
   "id": "5a41b066-7103-4f5d-86f8-3c3b915cc747",
   "metadata": {},
   "outputs": [
    {
     "name": "stdout",
     "output_type": "stream",
     "text": [
      "your name\n",
      "your age\n",
      "your profession\n"
     ]
    }
   ],
   "source": [
    "Lists=[\"your name\",\"your age\",\"your profession\"]\n",
    "for z in Lists:\n",
    "    print(z)"
   ]
  },
  {
   "cell_type": "code",
   "execution_count": null,
   "id": "8600c2cb-794a-49ff-ad05-5351bd73b01a",
   "metadata": {},
   "outputs": [],
   "source": [
    "Tuple=(1, 'Welcome', 2, 'Hope') \n",
    "print(Tuple)"
   ]
  },
  {
   "cell_type": "code",
   "execution_count": null,
   "id": "7c75b04a-22c1-418a-b133-d514e20cdf1e",
   "metadata": {},
   "outputs": [],
   "source": [
    "Tuples = ((0, 1, 2, 3), ('python', 'HOPE')) \n",
    "print(Tuples)"
   ]
  },
  {
   "cell_type": "code",
   "execution_count": null,
   "id": "cc927769-d865-4ea7-b620-38cabe78f561",
   "metadata": {},
   "outputs": [],
   "source": [
    "# print Odd Numbers in the list \n",
    "Lists = [20,10,16,19,25,1,276,188]\n",
    "print(Lists)\n",
    "for z in Lists:\n",
    "    if(z%2!=0):\n",
    "        print(z,\"is odd number\")"
   ]
  },
  {
   "cell_type": "code",
   "execution_count": null,
   "id": "4de6a78a-bbd5-40f4-916b-1b5a619eb61b",
   "metadata": {},
   "outputs": [],
   "source": [
    "#Print Even no in the list\n",
    "Lists = [20,10,16,19,25,1,276,188]\n",
    "print(Lists)\n",
    "for z in Lists:\n",
    "    if(z%2==0):\n",
    "        print(z,\"is Even number\")"
   ]
  }
 ],
 "metadata": {
  "kernelspec": {
   "display_name": "Python 3 (ipykernel)",
   "language": "python",
   "name": "python3"
  },
  "language_info": {
   "codemirror_mode": {
    "name": "ipython",
    "version": 3
   },
   "file_extension": ".py",
   "mimetype": "text/x-python",
   "name": "python",
   "nbconvert_exporter": "python",
   "pygments_lexer": "ipython3",
   "version": "3.11.7"
  }
 },
 "nbformat": 4,
 "nbformat_minor": 5
}
