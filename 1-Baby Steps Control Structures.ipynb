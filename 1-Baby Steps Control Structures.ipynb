{
 "cells": [
  {
   "cell_type": "code",
   "execution_count": null,
   "id": "6ca5ad8f-7390-4e39-b725-7ce93b3dc721",
   "metadata": {},
   "outputs": [],
   "source": [
    "#Baby steps print\n",
    "print(\"Welcome to assignment1\")"
   ]
  },
  {
   "cell_type": "code",
   "execution_count": null,
   "id": "f847abc1-fdde-4f0f-8d64-f053e3bd1600",
   "metadata": {},
   "outputs": [],
   "source": [
    "#Addition\n",
    "num1=10\n",
    "print(\"num1 =\",num1)\n",
    "num2=30\n",
    "print(\"num2 =\",num2)\n",
    "print(\"Add =\",num1+num2)"
   ]
  },
  {
   "cell_type": "code",
   "execution_count": null,
   "id": "d8a5bb0b-f797-493f-ad02-bc17377d0406",
   "metadata": {},
   "outputs": [],
   "source": [
    "#BMI weight\n",
    "num=float(input(\"Enter the BMI index:\"))\n",
    "if(num<=18.5):\n",
    "    print(\"underweight\")\n",
    "elif(num<=24.9):\n",
    "    print(\"normal weight\")\n",
    "elif(num<=29.9):\n",
    "     print(\"Over weight\")\n",
    "elif(num<=34.9):\n",
    "    print(\"obesity class 1\")\n",
    "elif(num<=39.9):\n",
    "    print(\"obesity class 2\")\n",
    "elif(num>40.0):\n",
    "     print(\"obesity class 3\")       "
   ]
  }
 ],
 "metadata": {
  "kernelspec": {
   "display_name": "Python 3 (ipykernel)",
   "language": "python",
   "name": "python3"
  },
  "language_info": {
   "codemirror_mode": {
    "name": "ipython",
    "version": 3
   },
   "file_extension": ".py",
   "mimetype": "text/x-python",
   "name": "python",
   "nbconvert_exporter": "python",
   "pygments_lexer": "ipython3",
   "version": "3.11.7"
  }
 },
 "nbformat": 4,
 "nbformat_minor": 5
}
